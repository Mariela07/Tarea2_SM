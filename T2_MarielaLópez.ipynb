{
 "cells": [
  {
   "cell_type": "markdown",
   "metadata": {},
   "source": [
    "# PYTHON"
   ]
  },
  {
   "cell_type": "markdown",
   "metadata": {},
   "source": [
    "Python es fácil de usar, potente y versátil, por lo que es una gran opción tanto para principiantes, como para expertos.\\\n",
    "Su facilidad de legibilidad te permite centrarte en comprender los conceptos de programación, en la lógica, no en entender un código tan complicado.\n",
    "\n",
    "\n",
    "\"Python es muy popular debido a su **conjunto de bibliotecas robustas que lo convierten en un lenguaje de programación tan dinámico y rápido**\", dijo Kristen Sosulski, profesora asociada clínica de información, operaciones y ciencias de gestión en la Escuela de Negocios Leonard N. Stern de la Universidad de Nueva York, y autora de Data Visualization Made Simple. \"Está orientado a objetos, y realmente permite todo, desde la creación de un sitio web, hasta el desarrollo de aplicaciones, hasta la creación de diferentes tipos de modelos de datos.\"\n",
    "\n"
   ]
  },
  {
   "cell_type": "markdown",
   "metadata": {},
   "source": [
    "### Las tres razones de por qué Python es tan popular"
   ]
  },
  {
   "cell_type": "markdown",
   "metadata": {},
   "source": [
    "#### 1) Facilidad de aprendizaje\n",
    "\n",
    "\n",
    "Python se clasifica como uno de los lenguajes de programación más fáciles de aprender, y es conocido por su alta confiabilidad y sintaxis simple, que son un empate para los nuevos codificadores en particular.\\\n",
    "Karen Panetta, una miembro de IEEE y decana de ingeniería de posgrado en la Universidad de Tufts hace referencia a él como 'un lenguaje de gratificación instantánea', pues con muy poco código, puede lograr mucho."
   ]
  },
  {
   "cell_type": "markdown",
   "metadata": {},
   "source": [
    "#### 2) La explosión de la IA, el aprendizaje automático y la ciencia de datos en la empresa\n",
    "\n",
    "\n",
    "\"Vemos casi un renacimiento porque Python ha demostrado ser muy, muy útil para la gente que está haciendo el tipo de inteligencia artificial o aprendizaje automático de las cosas\", dijo el vicepresidente y analista principal de Forrester, Jeff Hammond. \"Hay un marco muy bueno. Tienes algunas herramientas agradables para los científicos de datos, o personas que aspiran a ser científicos de datos\"."
   ]
  },
  {
   "cell_type": "markdown",
   "metadata": {},
   "source": [
    "#### 3) Una gran comunidad de desarrolladores\n",
    "\n",
    "\n",
    "Python se utiliza en un gran número de aplicaciones, desde IA, videojuegos y herramientas de productividad. \"Dado que ha disfrutado de una amplia difusión y aceptación en muchas disciplinas, ahora tiene una enorme comunidad de desarrolladores\", dijo Panetta. \"Hay una gran cantidad de bibliotecas de Python de código abierto disponibles que muy probablemente pueden lograr lo que necesita para ayudar a resolver su problema.\"\\\n",
    "\"La comunidad de usuarios es tan grande, que cualquier persona que se encuentre con cualquier problema de codificación puede encontrar rápidamente la solución simplemente publicando una pregunta o buscando la respuesta en un sitio de la comunidad de desarrolladores de Python\", dijo Panetta."
   ]
  }
 ],
 "metadata": {
  "kernelspec": {
   "display_name": "Python 3",
   "language": "python",
   "name": "python3"
  },
  "language_info": {
   "codemirror_mode": {
    "name": "ipython",
    "version": 3
   },
   "file_extension": ".py",
   "mimetype": "text/x-python",
   "name": "python",
   "nbconvert_exporter": "python",
   "pygments_lexer": "ipython3",
   "version": "3.8.3"
  }
 },
 "nbformat": 4,
 "nbformat_minor": 4
}
